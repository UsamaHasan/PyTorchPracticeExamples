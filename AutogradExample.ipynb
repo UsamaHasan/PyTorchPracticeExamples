{
  "nbformat": 4,
  "nbformat_minor": 0,
  "metadata": {
    "colab": {
      "name": "AutogradExample.ipynb",
      "provenance": [],
      "collapsed_sections": [],
      "authorship_tag": "ABX9TyN9Grh5tJyL9pkGYCuWJklv",
      "include_colab_link": true
    },
    "kernelspec": {
      "name": "python3",
      "display_name": "Python 3"
    }
  },
  "cells": [
    {
      "cell_type": "markdown",
      "metadata": {
        "id": "view-in-github",
        "colab_type": "text"
      },
      "source": [
        "<a href=\"https://colab.research.google.com/github/UsamaHasan/PyTorchPracticeExamples/blob/main/AutogradExample.ipynb\" target=\"_parent\"><img src=\"https://colab.research.google.com/assets/colab-badge.svg\" alt=\"Open In Colab\"/></a>"
      ]
    },
    {
      "cell_type": "code",
      "metadata": {
        "id": "JMuvUYBIlSx6"
      },
      "source": [
        "import torch\n",
        "class MyReLU(torch.autograd.Function):\n",
        "    @staticmethod\n",
        "    def forward(ctx,input):\n",
        "        ctx.save_for_backward(input)\n",
        "        return input.clamp(min=0)\n",
        "    @staticmethod\n",
        "    def backward(ctx,grad_output):\n",
        "        grad_input = grad_output.clone()\n",
        "        input , = ctx.saved_tensors\n",
        "        grad_input[input < 0 ] = 0\n",
        "        return grad_input  \n"
      ],
      "execution_count": null,
      "outputs": []
    },
    {
      "cell_type": "code",
      "metadata": {
        "id": "0jnn8ausQxWB",
        "outputId": "a9fb6ef9-5585-4fe5-851f-21139ddcb0d4",
        "colab": {
          "base_uri": "https://localhost:8080/",
          "height": 104
        }
      },
      "source": [
        "batch, input_dim , hidden_dim , output_dim  = 64 ,768 , 128 , 10\n",
        "\n",
        "input_tensor = torch.randn(batch ,input_dim)\n",
        "output_tensor = torch.randn(batch,output_dim)\n",
        "\n",
        "weights_1 = torch.randn(input_dim,hidden_dim,dtype=torch.float,device='cpu',requires_grad=True)\n",
        "weights_2 = torch.randn(hidden_dim,output_dim,dtype=torch.float,device='cpu',requires_grad=True)\n",
        "\n",
        "learning_rate = 0.1\n",
        "for epoch in range(500):\n",
        "    relu = MyReLU.apply\n",
        "\n",
        "    matmul = input_tensor.mm(weights_1)\n",
        "    linear1  = relu(matmul)\n",
        "    output = linear1.mm(weights_2)\n",
        "    loss = (output_tensor-output).pow(2).sum()\n",
        "    if epoch % 100 == 0:\n",
        "        print(f'{epoch},{loss.item()}')\n",
        "    loss.backward()\n",
        "\n",
        "    with torch.no_grad():\n",
        "        \n",
        "        weights_1  -= learning_rate*weights_1.grad\n",
        "        weights_2  -= learning_rate*weights_2.grad\n",
        "        \n",
        "        weights_1.grad.zero_()\n",
        "        weights_2.grad.zero_()\n"
      ],
      "execution_count": null,
      "outputs": [
        {
          "output_type": "stream",
          "text": [
            "1,1.1512963896885096e+24\n",
            "101,nan\n",
            "201,nan\n",
            "301,nan\n",
            "401,nan\n"
          ],
          "name": "stdout"
        }
      ]
    }
  ]
}